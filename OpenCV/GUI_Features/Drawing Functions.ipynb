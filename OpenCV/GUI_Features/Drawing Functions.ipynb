{
 "cells": [
  {
   "cell_type": "markdown",
   "metadata": {},
   "source": [
    "# Drawing Functions"
   ]
  },
  {
   "cell_type": "markdown",
   "metadata": {},
   "source": [
    "**Prashant Brahmbhatt**  \n",
    "\n",
    "www.github.com/hashbanger  \n",
    "  \n",
    "www.linkedin.com/in/prashantbrahmbhatt"
   ]
  },
  {
   "cell_type": "code",
   "execution_count": 1,
   "metadata": {},
   "outputs": [],
   "source": [
    "import cv2\n",
    "import numpy as np"
   ]
  },
  {
   "cell_type": "markdown",
   "metadata": {},
   "source": [
    "The basic drawing functions are ** cv.line(), cv.circle() , cv.rectangle(), cv.ellipse(), cv.putText() **"
   ]
  },
  {
   "cell_type": "markdown",
   "metadata": {},
   "source": [
    "These functions share some common arguments  \n",
    "\n",
    "- img : The image where you want to draw the shapes\n",
    "- color : Color of the shape. for BGR, pass it as a tuple, eg: (255,0,0) for blue. For grayscale, just pass the scalar value.\n",
    "- thickness : Thickness of the line or circle etc. If **-1** is passed for closed figures like circles, it will fill the shape. default thickness = 1\n",
    "- lineType : Type of line, whether 8-connected, anti-aliased line etc. By default, it is 8-connected. **cv.LINE_AA** gives anti-aliased line which looks great for curves"
   ]
  },
  {
   "cell_type": "markdown",
   "metadata": {},
   "source": [
    "### Drawing a line"
   ]
  },
  {
   "cell_type": "code",
   "execution_count": 3,
   "metadata": {},
   "outputs": [],
   "source": [
    "#Creating a black image\n",
    "img = np.zeros((512,512,3), np.uint8 )\n",
    "cv2.imshow('img',img)"
   ]
  },
  {
   "cell_type": "code",
   "execution_count": 4,
   "metadata": {},
   "outputs": [],
   "source": [
    "img = cv2.line(img, (0,0), (511, 511), (255, 0, 0), 5)\n",
    "#cv2.line(img, (x1,x2), (y1, y2), (R,G,B), thickness)\n",
    "\n",
    "cv2.imshow('img', img)\n",
    "cv2.waitKey(0)\n",
    "cv2.destroyAllWindows()"
   ]
  },
  {
   "cell_type": "markdown",
   "metadata": {},
   "source": [
    "### Drawing a Rectangle"
   ]
  },
  {
   "cell_type": "code",
   "execution_count": 10,
   "metadata": {},
   "outputs": [],
   "source": [
    "img = np.zeros((512,512,3), np.uint8 )\n",
    "img = cv2.rectangle(img, (100, 100), (400,400), (0, 255, 0), 5)\n",
    "cv2.imshow('fg',img)\n",
    "cv2.waitKey(0)\n",
    "cv2.destroyAllWindows()"
   ]
  },
  {
   "cell_type": "markdown",
   "metadata": {},
   "source": [
    "### Drawing Circle"
   ]
  },
  {
   "cell_type": "markdown",
   "metadata": {},
   "source": [
    "To draw a circle, you need its center coordinates and radius. We will draw a circle inside the rectangle drawn above. "
   ]
  },
  {
   "cell_type": "code",
   "execution_count": 18,
   "metadata": {},
   "outputs": [],
   "source": [
    "img = np.zeros((512,512,3), np.uint8 )\n",
    "img = cv2.circle(img, (256, 256), 100, (0, 0, 255), 4)\n",
    "cv2.imshow('g', img)\n",
    "cv2.waitKey(0)\n",
    "cv2.destroyAllWindows()"
   ]
  },
  {
   "cell_type": "markdown",
   "metadata": {},
   "source": [
    "### Drawing ellipse"
   ]
  },
  {
   "cell_type": "markdown",
   "metadata": {},
   "source": [
    "To draw the ellipse, we need to pass several arguments. One argument is the center location (x,y). Next argument is axes lengths (major axis length, minor axis length). angle is the angle of rotation of ellipse in anti-clockwise direction. startAngle and endAngle denotes the starting and ending of ellipse arc measured in clockwise direction from major axis. i.e. giving values 0 and 360 gives the full ellipse. For more details, check the documentation of **cv.ellipse()**. Below example draws a half ellipse at the center of the image. "
   ]
  },
  {
   "cell_type": "code",
   "execution_count": 76,
   "metadata": {},
   "outputs": [],
   "source": [
    "img = np.zeros((512,512,3), np.uint8 )\n",
    "img = cv2.ellipse(img, (250, 250), (100,50), 0, 0, 180, 255,  -1)\n",
    "cv2.imshow('g', img)\n",
    "cv2.waitKey(0)\n",
    "cv2.destroyAllWindows()"
   ]
  },
  {
   "cell_type": "markdown",
   "metadata": {},
   "source": [
    "### Drawing Polygon"
   ]
  },
  {
   "cell_type": "markdown",
   "metadata": {},
   "source": [
    "To draw a polygon, first you need coordinates of vertices. Make those points into an array of shape ROWSx1x2 where ROWS are number of vertices and it should be of type int32. Here we draw a small polygon of with four vertices in yellow color. "
   ]
  },
  {
   "cell_type": "code",
   "execution_count": 61,
   "metadata": {},
   "outputs": [],
   "source": [
    "img = np.zeros((512,512,3), np.uint8 )\n",
    "pts = np.array([[10,10], [133,55], [400,23], [500,500]], dtype= np.int32)\n",
    "pts = pts.reshape((-1,1,2))\n",
    "cv2.polylines(img, [pts], True, (0, 255, 0), 3)\n",
    "cv2.imshow('g', img)\n",
    "cv2.waitKey(0)\n",
    "cv2.destroyAllWindows()"
   ]
  },
  {
   "cell_type": "markdown",
   "metadata": {},
   "source": [
    "### Writing Text"
   ]
  },
  {
   "cell_type": "markdown",
   "metadata": {},
   "source": [
    "To put texts in images, you need specify following things.\n",
    "\n",
    "* Text data that you want to write\n",
    "* Position coordinates of where you want put it (i.e. bottom-left corner where data starts).\n",
    "* Font type (Check **cv.putText()** docs for supported fonts)\n",
    "* Font Scale (specifies the size of font)\n",
    "    regular things like color, thickness, lineType etc. For better look, lineType = **cv.LINE_AA** is recommended.\n"
   ]
  },
  {
   "cell_type": "code",
   "execution_count": 72,
   "metadata": {},
   "outputs": [],
   "source": [
    "img = np.zeros((512,512,3), np.uint8 )\n",
    "font = cv2.FONT_HERSHEY_TRIPLEX\n",
    "img = cv2.putText(img, \"I'm Batman\", (10,200), font, 2,(100,255,255),2,cv2.LINE_AA)\n",
    "cv2.imshow('g', img)\n",
    "cv2.waitKey(0)\n",
    "cv2.destroyAllWindows()"
   ]
  },
  {
   "cell_type": "markdown",
   "metadata": {},
   "source": [
    "### Putting it all"
   ]
  },
  {
   "cell_type": "code",
   "execution_count": 82,
   "metadata": {},
   "outputs": [],
   "source": [
    "img = np.zeros((512,512,3), np.uint8 )\n",
    "img = cv2.line(img, (0,0), (511, 511), (255, 0, 0), 5)\n",
    "img = cv2.rectangle(img, (100, 100), (400,400), (0, 255, 0), 5)\n",
    "img = cv2.circle(img, (256, 256), 100, (0, 0, 255), 4)\n",
    "img = cv2.ellipse(img, (250, 250), (100,50), 0, 0, 180, 255,  -1)\n",
    "pts = np.array([[100,10], [133,55], [400,23], [470,344]], dtype= np.int32)\n",
    "pts = pts.reshape((-1,1,2))\n",
    "cv2.polylines(img, [pts], True, (0, 255, 0), 3)\n",
    "font = cv2.FONT_HERSHEY_TRIPLEX\n",
    "img = cv2.putText(img, \"I'm Batman\", (10,200), font, 2,(100,255,255),2,cv2.LINE_AA)\n",
    "cv2.imshow('g', img)\n",
    "cv2.waitKey(0)\n",
    "cv2.destroyAllWindows()"
   ]
  },
  {
   "cell_type": "markdown",
   "metadata": {},
   "source": [
    "### De Nada!"
   ]
  }
 ],
 "metadata": {
  "kernelspec": {
   "display_name": "Python 3",
   "language": "python",
   "name": "python3"
  },
  "language_info": {
   "codemirror_mode": {
    "name": "ipython",
    "version": 3
   },
   "file_extension": ".py",
   "mimetype": "text/x-python",
   "name": "python",
   "nbconvert_exporter": "python",
   "pygments_lexer": "ipython3",
   "version": "3.5.5"
  }
 },
 "nbformat": 4,
 "nbformat_minor": 2
}
