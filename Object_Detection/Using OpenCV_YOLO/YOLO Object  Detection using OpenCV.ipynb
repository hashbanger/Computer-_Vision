{
 "cells": [
  {
   "cell_type": "markdown",
   "metadata": {},
   "source": [
    "# YOLO Object Detection using OpenCV"
   ]
  },
  {
   "cell_type": "markdown",
   "metadata": {},
   "source": [
    "[Prashant Brahmbhatt](https://www.github.com/hashbanger)"
   ]
  },
  {
   "cell_type": "markdown",
   "metadata": {},
   "source": [
    "____"
   ]
  },
  {
   "cell_type": "markdown",
   "metadata": {},
   "source": [
    "## Why CNNs aren't good enough!"
   ]
  },
  {
   "cell_type": "markdown",
   "metadata": {},
   "source": [
    "First of all, why do we need other image detection algorithms if we already had **Convolutional Neural Networks**?  \n",
    "As you can guess, to overcome the disadvantages of the traditional CNNs, some of them are:  \n",
    "- High computational cost.\n",
    "- If you don't have a good GPU they are quite slow to train (for complex tasks).\n",
    "- They use to need a lot of training data.  \n",
    "- CNNs depend on the initial parameter tuning (for a good point) to avoid local optima.\n",
    "\n",
    "But we also have Faster R_CNNs don't we?  \n",
    "Sadly, they are much better implemented using Region Proposal Algorithm which could do localization and convolution classification, they are still quite slow!\n",
    "\n",
    "The CNN are good at image classification that requires a single class associated with an image however in real life scenarios that's not good enough! We require detection of multiple objects in an image and also where are they located, termed as **Object Detection** and **Object Localization**."
   ]
  },
  {
   "cell_type": "markdown",
   "metadata": {},
   "source": [
    "If you're confused about image classification, object detection, segmentation have a look at this given image.  \n",
    "![img1](img1.png)\n"
   ]
  },
  {
   "cell_type": "markdown",
   "metadata": {},
   "source": [
    "## The YOLO Approach (You Look Only Once)"
   ]
  },
  {
   "cell_type": "markdown",
   "metadata": {},
   "source": [
    "As the original papers cites, the object detection problem is reframed as a regression problem. YOLO trains on full images and directly optimizes detection performance. It doesn't requires a complex pipeline.  \n",
    "Unlike the sliding window technique it looks at the image only once hence the name. It implcitily encodes textual information about the classes and their appearance. \n",
    "The YOLO sees the entire image at once and gets the entire context of the image and makes rare background errors.   \n",
    "The YOLO is a highly generalizable approach it is less prone to bad performance for unexpected inputs or unknown domains.  \n",
    "\n",
    "### Working\n",
    "- The YOLO divides the image in $S x S$ grid, the if the center of an object lies in a grid then that grid becomes responsible for predicting the class of that object.  \n",
    "- Each of the grid is responsible of predicting $B$ bounding boxes and confidence score for those boxes to show how sure the model is about any particular object. The score doesn't indicate what kind of object it is rather if it contains some object. If there is no object then the confidence should be zero (duh!).\n",
    "- Each bounding box is consists of 5 predictions $x,y,w,h$ where the (x,y) are the coordinates of the center of the box relative to the bounds of the cell. The w, h are the width and the height which are predicted relative to the whole image.  \n",
    "- It predicts only one set of class probabilities per grid cell regardless of $B$. Then at test time multiplies multiple conditional class probabilities and the individual box confidence predictions.\n"
   ]
  },
  {
   "cell_type": "code",
   "execution_count": null,
   "metadata": {},
   "outputs": [],
   "source": []
  },
  {
   "cell_type": "code",
   "execution_count": null,
   "metadata": {},
   "outputs": [],
   "source": []
  },
  {
   "cell_type": "markdown",
   "metadata": {},
   "source": [
    "references:    \n",
    "https://arxiv.org/pdf/1506.02640v5.pdf (The original Paper)  \n",
    "https://www.pjreddie.com  \n",
    "https://www.stackoverflow.com  \n",
    "https://www.medium.com  \n",
    "https://www.pyimagesearch.com      \n"
   ]
  },
  {
   "cell_type": "markdown",
   "metadata": {},
   "source": [
    "### de nada!"
   ]
  }
 ],
 "metadata": {
  "kernelspec": {
   "display_name": "Python 3",
   "language": "python",
   "name": "python3"
  },
  "language_info": {
   "codemirror_mode": {
    "name": "ipython",
    "version": 3
   },
   "file_extension": ".py",
   "mimetype": "text/x-python",
   "name": "python",
   "nbconvert_exporter": "python",
   "pygments_lexer": "ipython3",
   "version": "3.6.4"
  }
 },
 "nbformat": 4,
 "nbformat_minor": 2
}
